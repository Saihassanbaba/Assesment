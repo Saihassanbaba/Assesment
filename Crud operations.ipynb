{
 "cells": [
  {
   "cell_type": "code",
   "execution_count": 1,
   "id": "1d6f7f0e",
   "metadata": {},
   "outputs": [
    {
     "name": "stdout",
     "output_type": "stream",
     "text": [
      "Requirement already satisfied: pymongo in c:\\users\\sai hassan baba\\appdata\\local\\programs\\python\\python310\\lib\\site-packages (4.3.2)\n",
      "Requirement already satisfied: dnspython<3.0.0,>=1.16.0 in c:\\users\\sai hassan baba\\appdata\\local\\programs\\python\\python310\\lib\\site-packages (from pymongo) (2.2.1)\n"
     ]
    }
   ],
   "source": [
    "!pip install pymongo"
   ]
  },
  {
   "cell_type": "code",
   "execution_count": 3,
   "id": "f2f7b0da",
   "metadata": {},
   "outputs": [],
   "source": [
    "from pymongo import MongoClient\n",
    "client = MongoClient('localhost',27017)"
   ]
  },
  {
   "cell_type": "code",
   "execution_count": 5,
   "id": "cd22bdc7",
   "metadata": {},
   "outputs": [],
   "source": [
    "db=client[\"Crudoperations\"]"
   ]
  },
  {
   "cell_type": "code",
   "execution_count": 6,
   "id": "ea7410ae",
   "metadata": {},
   "outputs": [],
   "source": [
    "collection=db[\"records\"]"
   ]
  },
  {
   "cell_type": "code",
   "execution_count": 11,
   "id": "dd588a38",
   "metadata": {},
   "outputs": [],
   "source": [
    "data=[ \n",
    "   { \"age\": 30, \"name\": \"hassan\", \"place\": \"vijaywada\", \"phone number\":7702436651},\n",
    "   { \"age\": 41, \"name\": \"sai\", \"place\": \"hyderabad\", \"phone number\":9618758468},\n",
    "   { \"age\": 22, \"name\": \"maanya\", \"place\": \"machilipatnam\", \"phone number\":9515709468},\n",
    "   { \"age\": 33, \"name\": \"varun\" , \"place\": \"tuni\", \"phone number\":996881232}\n",
    "]"
   ]
  },
  {
   "cell_type": "code",
   "execution_count": 12,
   "id": "dc9e3776",
   "metadata": {},
   "outputs": [
    {
     "data": {
      "text/plain": [
       "<pymongo.results.InsertManyResult at 0x2451604dcf0>"
      ]
     },
     "execution_count": 12,
     "metadata": {},
     "output_type": "execute_result"
    }
   ],
   "source": [
    " #create operation    \n",
    "collection.insert_many(data)"
   ]
  },
  {
   "cell_type": "code",
   "execution_count": 13,
   "id": "aa826b8a",
   "metadata": {},
   "outputs": [],
   "source": [
    "#read operation\n",
    "for i in collection.find():\n",
    "    a=i"
   ]
  },
  {
   "cell_type": "code",
   "execution_count": 14,
   "id": "f54db3c0",
   "metadata": {},
   "outputs": [
    {
     "data": {
      "text/plain": [
       "{'_id': ObjectId('636147e4dbbf6d1b7002d54a'),\n",
       " 'age': 33,\n",
       " 'name': 'varun',\n",
       " 'place': 'tuni',\n",
       " 'phone number': 996881232}"
      ]
     },
     "execution_count": 14,
     "metadata": {},
     "output_type": "execute_result"
    }
   ],
   "source": [
    "a"
   ]
  },
  {
   "cell_type": "code",
   "execution_count": 26,
   "id": "6d5e1234",
   "metadata": {},
   "outputs": [
    {
     "data": {
      "text/plain": [
       "<pymongo.results.UpdateResult at 0x24519c0c580>"
      ]
     },
     "execution_count": 26,
     "metadata": {},
     "output_type": "execute_result"
    }
   ],
   "source": [
    "#update in the collection\n",
    "collection.update_one(\n",
    "    { \"place\" : \"hyderabad\"},\n",
    "    {\n",
    "        \"$set\":{\"age\":12,\"phone number\":123456789},\n",
    "    }\n",
    ")"
   ]
  },
  {
   "cell_type": "code",
   "execution_count": 27,
   "id": "863351f7",
   "metadata": {},
   "outputs": [
    {
     "name": "stdout",
     "output_type": "stream",
     "text": [
      "{'_id': ObjectId('636147e4dbbf6d1b7002d547'), 'age': 30, 'name': 'hassan', 'place': 'vijaywada', 'phone number': 7702436651}\n",
      "{'_id': ObjectId('636147e4dbbf6d1b7002d548'), 'age': 12, 'name': 'sai', 'place': 'hyderabad', 'phone number': 123456789}\n",
      "{'_id': ObjectId('636147e4dbbf6d1b7002d549'), 'age': 22, 'name': 'maanya', 'place': 'machilipatnam', 'phone number': 9515709468}\n",
      "{'_id': ObjectId('636147e4dbbf6d1b7002d54a'), 'age': 33, 'name': 'varun', 'place': 'tuni', 'phone number': 996881232}\n"
     ]
    }
   ],
   "source": [
    "for i in collection.find():\n",
    "    print(i)"
   ]
  },
  {
   "cell_type": "code",
   "execution_count": 29,
   "id": "26b5faaa",
   "metadata": {},
   "outputs": [
    {
     "data": {
      "text/plain": [
       "<pymongo.results.DeleteResult at 0x24519c0f9a0>"
      ]
     },
     "execution_count": 29,
     "metadata": {},
     "output_type": "execute_result"
    }
   ],
   "source": [
    "#delete operation\n",
    "collection.delete_one({\"name\":\"hassan\"})"
   ]
  },
  {
   "cell_type": "code",
   "execution_count": 30,
   "id": "453c172a",
   "metadata": {},
   "outputs": [
    {
     "name": "stdout",
     "output_type": "stream",
     "text": [
      "{'_id': ObjectId('636147e4dbbf6d1b7002d548'), 'age': 12, 'name': 'sai', 'place': 'hyderabad', 'phone number': 123456789}\n",
      "{'_id': ObjectId('636147e4dbbf6d1b7002d549'), 'age': 22, 'name': 'maanya', 'place': 'machilipatnam', 'phone number': 9515709468}\n",
      "{'_id': ObjectId('636147e4dbbf6d1b7002d54a'), 'age': 33, 'name': 'varun', 'place': 'tuni', 'phone number': 996881232}\n"
     ]
    }
   ],
   "source": [
    "for i in collection.find():\n",
    "    print(i)"
   ]
  },
  {
   "cell_type": "code",
   "execution_count": null,
   "id": "ef964064",
   "metadata": {},
   "outputs": [],
   "source": []
  }
 ],
 "metadata": {
  "kernelspec": {
   "display_name": "Python 3 (ipykernel)",
   "language": "python",
   "name": "python3"
  },
  "language_info": {
   "codemirror_mode": {
    "name": "ipython",
    "version": 3
   },
   "file_extension": ".py",
   "mimetype": "text/x-python",
   "name": "python",
   "nbconvert_exporter": "python",
   "pygments_lexer": "ipython3",
   "version": "3.10.7"
  }
 },
 "nbformat": 4,
 "nbformat_minor": 5
}
